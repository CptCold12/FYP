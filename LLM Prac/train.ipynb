{
 "cells": [
  {
   "cell_type": "code",
   "execution_count": 1,
   "metadata": {},
   "outputs": [
    {
     "name": "stderr",
     "output_type": "stream",
     "text": [
      "WARNING:torchao.kernel.intmm:Warning: Detected no triton, on systems without Triton certain kernels will not work\n",
      "d:\\CourseworkFolder\\DPSynthData\\LLM PRAC\\.venv\\Lib\\site-packages\\tqdm\\auto.py:21: TqdmWarning: IProgress not found. Please update jupyter and ipywidgets. See https://ipywidgets.readthedocs.io/en/stable/user_install.html\n",
      "  from .autonotebook import tqdm as notebook_tqdm\n"
     ]
    }
   ],
   "source": [
    "import torch\n",
    "import torch.nn as nn\n",
    "from torch.nn import functional as F\n",
    "import json\n",
    "import random\n",
    "from tqdm import tqdm\n",
    "from torchtune.modules import RotaryPositionalEmbeddings"
   ]
  },
  {
   "cell_type": "code",
   "execution_count": 2,
   "metadata": {},
   "outputs": [
    {
     "name": "stdout",
     "output_type": "stream",
     "text": [
      "Using device: cuda\n"
     ]
    }
   ],
   "source": [
    "batch_size = 16\n",
    "#block_size = 128\n",
    "max_iters = 6000\n",
    "eval_interval = 100\n",
    "learning_rate = 6e-4\n",
    "eval_iters = 200\n",
    "n_embd = 64\n",
    "n_head = 4\n",
    "n_layer = 4\n",
    "dropout = 0.1\n",
    "device = 'cuda' if torch.cuda.is_available() else 'cpu'\n",
    "print(f\"Using device: {device}\")"
   ]
  },
  {
   "cell_type": "code",
   "execution_count": 3,
   "metadata": {},
   "outputs": [
    {
     "name": "stdout",
     "output_type": "stream",
     "text": [
      "Train set: 96377 timelines. Max length: 29941, Average length: 107.5\n",
      "Val set: 10709 timelines. Max length: 27058, Average length: 109.7\n",
      "Vocab size: 15567\n"
     ]
    }
   ],
   "source": [
    "train_data = torch.load(\"train.pt\")\n",
    "val_data = torch.load(\"val.pt\")\n",
    "\n",
    "def find_max_len(dataset, name=\"Dataset\"):\n",
    "    max_len = 0\n",
    "    total = 0\n",
    "    count = 0\n",
    "    for seq in dataset:\n",
    "        seq_len = len(seq)\n",
    "        if seq_len > max_len:\n",
    "            max_len = seq_len\n",
    "        total += seq_len\n",
    "        count += 1\n",
    "    avg_len = total / count if count > 0 else 0\n",
    "    print(f\"{name}: {count} timelines. Max length: {max_len}, Average length: {avg_len:.1f}\")\n",
    "\n",
    "find_max_len(train_data, \"Train set\")\n",
    "find_max_len(val_data, \"Val set\")\n",
    "\n",
    "with open(\"D:/CourseworkFolder/DPSynthData/Data Manipulation/token_map.json\", \"r\", encoding=\"utf-8\") as f:\n",
    "    token_map = json.load(f)\n",
    "vocab_size = len(token_map)\n",
    "print(f\"Vocab size: {vocab_size}\")\n",
    " "
   ]
  },
  {
   "cell_type": "code",
   "execution_count": 4,
   "metadata": {},
   "outputs": [],
   "source": [
    "def get_batch(split):\n",
    "    data = train_data if split == \"train\" else val_data\n",
    "    batch = random.sample(data, batch_size)\n",
    "    x_batch = [torch.tensor(seq[:-1], dtype=torch.long, device=device) for seq in batch]\n",
    "    y_batch = [torch.tensor(seq[1:], dtype=torch.long, device=device) for seq in batch]\n",
    "    return x_batch, y_batch\n",
    "\n",
    "@torch.no_grad()\n",
    "\n",
    "# def estimate_loss():\n",
    "#     out = {}\n",
    "#     model.eval()\n",
    "#     for split in ['train', 'val']:\n",
    "#         losses = torch.zeros(eval_iters)\n",
    "#         for k in range(eval_iters):\n",
    "#             x_batch, y_batch = get_batch(split)\n",
    "            \n",
    "#             batch_losses = []\n",
    "#             for x, y in zip(x_batch, y_batch):\n",
    "#                 logits, loss = model([x], [y])  \n",
    "#                 batch_losses.append(loss.item())\n",
    "            \n",
    "#             avg_loss = sum(batch_losses) / len(batch_losses)\n",
    "#             losses[k] = avg_loss\n",
    "        \n",
    "#         out[split] = losses.mean()\n",
    "#     model.train()\n",
    "#     return out\n",
    "\n",
    "def estimate_loss():\n",
    "    out = {}\n",
    "    model.eval()\n",
    "    for split in ['train', 'val']:\n",
    "        losses = torch.zeros(eval_iters)\n",
    "        for k in range(eval_iters):\n",
    "            X, Y = get_batch(split)\n",
    "            _, loss = model(X, Y)\n",
    "            losses[k] = loss.item()\n",
    "        out[split] = losses.mean()\n",
    "    model.train()\n",
    "    return out"
   ]
  },
  {
   "cell_type": "code",
   "execution_count": 11,
   "metadata": {},
   "outputs": [],
   "source": [
    "class MultiHeadAttention(nn.Module):\n",
    "    def __init__(self, num_heads, n_embd):\n",
    "        super().__init__()\n",
    "        self.num_heads = num_heads\n",
    "        self.head_dim = n_embd // num_heads\n",
    "        assert n_embd % num_heads == 0, \"Embedding size must be divisible by num_heads\"\n",
    "\n",
    "        self.query = nn.Linear(n_embd, n_embd, bias=False)\n",
    "        self.key = nn.Linear(n_embd, n_embd, bias=False)\n",
    "        self.value = nn.Linear(n_embd, n_embd, bias=False)\n",
    "        \n",
    "        \n",
    "        self.rope = RotaryPositionalEmbeddings(dim=self.head_dim, max_seq_len=50000)\n",
    "        self.proj = nn.Linear(n_embd, n_embd)\n",
    "        self.dropout = nn.Dropout(dropout)\n",
    "\n",
    "    def forward(self, x):\n",
    "        B, T, C = x.shape  # (batch_size, sequence_length, embedding_dim)\n",
    "        \n",
    "        # Linear projections and reshape to (B, T, n_head, head_dim)\n",
    "        q = self.query(x).view(B, T, self.num_heads, self.head_dim)\n",
    "        k = self.key(x).view(B, T, self.num_heads, self.head_dim)\n",
    "        v = self.value(x).view(B, T, self.num_heads, self.head_dim)\n",
    "        \n",
    "        #print(f\"q.shape: {q.shape}\")\n",
    "        \n",
    "        # Apply RoPE to q and k (automatic positional embeddings)\n",
    "        q = self.rope(q)\n",
    "        k = self.rope(k)\n",
    "\n",
    "        # Scaled Dot-Product Attention with flash attention\n",
    "        out = F.scaled_dot_product_attention(\n",
    "            q, k, v,\n",
    "            attn_mask=None,\n",
    "            dropout_p=dropout if self.training else 0.0,\n",
    "            is_causal=True\n",
    "        )  # (B, T, n_head, head_dim)\n",
    "\n",
    "        # Merge heads: (B, T, n_head, head_dim) -> (B, T, C)\n",
    "        out = out.transpose(1, 2).reshape(B, T, C)\n",
    "        out = self.dropout(self.proj(out))\n",
    "        return out\n",
    "\n",
    "\n",
    "class FeedForward(nn.Module):\n",
    "    def __init__(self, n_embd):\n",
    "        super().__init__()\n",
    "        self.net = nn.Sequential(\n",
    "            nn.Linear(n_embd, 4 * n_embd),\n",
    "            nn.ReLU(),\n",
    "            nn.Linear(4 * n_embd, n_embd),\n",
    "            nn.Dropout(dropout)\n",
    "        )\n",
    "\n",
    "    def forward(self, x):\n",
    "        return self.net(x)\n",
    "\n",
    "class Block(nn.Module):\n",
    "    def __init__(self, n_embd, n_head):\n",
    "        super().__init__()\n",
    "        self.sa = MultiHeadAttention(n_head, n_embd)\n",
    "        self.ffwd = FeedForward(n_embd)\n",
    "        self.ln1 = nn.LayerNorm(n_embd)\n",
    "        self.ln2 = nn.LayerNorm(n_embd)\n",
    "\n",
    "    def forward(self, x):\n",
    "        x = x + self.sa(self.ln1(x))\n",
    "        x = x + self.ffwd(self.ln2(x))\n",
    "        return x\n",
    "\n",
    "\n",
    "class TimelineLanguageModel(nn.Module):\n",
    "    def __init__(self):\n",
    "        super().__init__()\n",
    "        self.token_embedding_table = nn.Embedding(vocab_size, n_embd)\n",
    "        #self.position_embedding_table = nn.Embedding(12000, n_embd)  \n",
    "        self.blocks = nn.Sequential(*[Block(n_embd, n_head) for _ in range(n_layer)])\n",
    "        self.ln_f = nn.LayerNorm(n_embd)\n",
    "        self.lm_head = nn.Linear(n_embd, vocab_size)\n",
    "\n",
    "    def forward(self, x_batch, y_batch=None):\n",
    "        logits_batch = []\n",
    "        losses = []\n",
    "\n",
    "        for x in x_batch:\n",
    "            #T = x.size(0)\n",
    "            tok_emb = self.token_embedding_table(x)\n",
    "            #pos_emb = self.position_embedding_table(torch.arange(T, device=x.device))\n",
    "            x_in = tok_emb \n",
    "            x_in = x_in.unsqueeze(0)\n",
    "\n",
    "            x_out = self.blocks(x_in)\n",
    "            x_out = self.ln_f(x_out)\n",
    "            logits = self.lm_head(x_out).squeeze(0)  \n",
    "            logits_batch.append(logits)\n",
    "\n",
    "        if y_batch is not None:\n",
    "            for logits, y in zip(logits_batch, y_batch):\n",
    "                loss = F.cross_entropy(logits, y)\n",
    "                losses.append(loss)\n",
    "            return logits_batch, torch.stack(losses).mean()\n",
    "\n",
    "        return logits_batch, None\n",
    "\n",
    "    def generate(self, idx, max_new_tokens):\n",
    "        min_tokens = 1\n",
    "        eos_token = 15566\n",
    "\n",
    "        for i in range(max_new_tokens):\n",
    "            T = idx.size(1)\n",
    "            tok_emb = self.token_embedding_table(idx)\n",
    "            #pos_emb = self.position_embedding_table(torch.arange(T, device=idx.device))\n",
    "            x = tok_emb\n",
    "            x = self.blocks(x)\n",
    "            x = self.ln_f(x)\n",
    "            logits = self.lm_head(x)\n",
    "\n",
    "            probs = F.softmax(logits[:, -1, :], dim=-1)\n",
    "\n",
    "            if i < min_tokens:\n",
    "                probs[:, eos_token] = 0\n",
    "                probs = probs / probs.sum(dim=-1, keepdim=True)\n",
    "\n",
    "            next_token = torch.multinomial(probs, num_samples=1)\n",
    "            idx = torch.cat((idx, next_token), dim=1)\n",
    "         \n",
    "            if next_token.item() == eos_token and i >= min_tokens:\n",
    "                break\n",
    "\n",
    "        return idx\n"
   ]
  },
  {
   "cell_type": "code",
   "execution_count": 6,
   "metadata": {},
   "outputs": [
    {
     "name": "stdout",
     "output_type": "stream",
     "text": [
      " Starting training\n",
      " Model has 2.21M parameters\n"
     ]
    },
    {
     "name": "stderr",
     "output_type": "stream",
     "text": [
      "Training Model:   0%|          | 0/6000 [00:00<?, ?steps/s]"
     ]
    },
    {
     "name": "stdout",
     "output_type": "stream",
     "text": [
      " Step 0: train loss 9.7831, val loss 9.7877\n"
     ]
    },
    {
     "name": "stderr",
     "output_type": "stream",
     "text": [
      "Training Model:   2%|▏         | 100/6000 [00:57<23:43,  4.14steps/s] "
     ]
    },
    {
     "name": "stdout",
     "output_type": "stream",
     "text": [
      " Step 100: train loss 6.1807, val loss 6.1662\n"
     ]
    },
    {
     "name": "stderr",
     "output_type": "stream",
     "text": [
      "Training Model:   3%|▎         | 200/6000 [01:51<22:43,  4.25steps/s]   "
     ]
    },
    {
     "name": "stdout",
     "output_type": "stream",
     "text": [
      " Step 200: train loss 5.6639, val loss 5.6941\n"
     ]
    },
    {
     "name": "stderr",
     "output_type": "stream",
     "text": [
      "Training Model:   5%|▌         | 300/6000 [02:48<20:45,  4.58steps/s]   "
     ]
    },
    {
     "name": "stdout",
     "output_type": "stream",
     "text": [
      " Step 300: train loss 5.2546, val loss 5.2610\n"
     ]
    },
    {
     "name": "stderr",
     "output_type": "stream",
     "text": [
      "Training Model:   7%|▋         | 400/6000 [03:44<20:54,  4.46steps/s]   "
     ]
    },
    {
     "name": "stdout",
     "output_type": "stream",
     "text": [
      " Step 400: train loss 4.8760, val loss 4.8621\n"
     ]
    },
    {
     "name": "stderr",
     "output_type": "stream",
     "text": [
      "Training Model:   8%|▊         | 500/6000 [04:37<20:09,  4.55steps/s]   "
     ]
    },
    {
     "name": "stdout",
     "output_type": "stream",
     "text": [
      " Step 500: train loss 4.6118, val loss 4.6113\n"
     ]
    },
    {
     "name": "stderr",
     "output_type": "stream",
     "text": [
      "Training Model:  10%|█         | 600/6000 [05:30<22:10,  4.06steps/s]   "
     ]
    },
    {
     "name": "stdout",
     "output_type": "stream",
     "text": [
      " Step 600: train loss 4.3786, val loss 4.3714\n"
     ]
    },
    {
     "name": "stderr",
     "output_type": "stream",
     "text": [
      "Training Model:  12%|█▏        | 700/6000 [06:24<21:05,  4.19steps/s]   "
     ]
    },
    {
     "name": "stdout",
     "output_type": "stream",
     "text": [
      " Step 700: train loss 4.2538, val loss 4.2612\n"
     ]
    },
    {
     "name": "stderr",
     "output_type": "stream",
     "text": [
      "Training Model:  13%|█▎        | 800/6000 [07:18<20:05,  4.31steps/s]   "
     ]
    },
    {
     "name": "stdout",
     "output_type": "stream",
     "text": [
      " Step 800: train loss 4.0991, val loss 4.1245\n"
     ]
    },
    {
     "name": "stderr",
     "output_type": "stream",
     "text": [
      "Training Model:  15%|█▌        | 900/6000 [08:15<18:33,  4.58steps/s]   "
     ]
    },
    {
     "name": "stdout",
     "output_type": "stream",
     "text": [
      " Step 900: train loss 4.0215, val loss 4.0306\n"
     ]
    },
    {
     "name": "stderr",
     "output_type": "stream",
     "text": [
      "Training Model:  17%|█▋        | 1000/6000 [09:09<19:07,  4.36steps/s]  "
     ]
    },
    {
     "name": "stdout",
     "output_type": "stream",
     "text": [
      " Step 1000: train loss 3.9716, val loss 3.9454\n"
     ]
    },
    {
     "name": "stderr",
     "output_type": "stream",
     "text": [
      "Training Model:  18%|█▊        | 1100/6000 [10:02<18:14,  4.48steps/s]   "
     ]
    },
    {
     "name": "stdout",
     "output_type": "stream",
     "text": [
      " Step 1100: train loss 3.8695, val loss 3.8910\n"
     ]
    },
    {
     "name": "stderr",
     "output_type": "stream",
     "text": [
      "Training Model:  20%|██        | 1200/6000 [10:56<17:59,  4.45steps/s]   "
     ]
    },
    {
     "name": "stdout",
     "output_type": "stream",
     "text": [
      " Step 1200: train loss 3.7983, val loss 3.8543\n"
     ]
    },
    {
     "name": "stderr",
     "output_type": "stream",
     "text": [
      "Training Model:  22%|██▏       | 1300/6000 [11:50<16:42,  4.69steps/s]   "
     ]
    },
    {
     "name": "stdout",
     "output_type": "stream",
     "text": [
      " Step 1300: train loss 3.7716, val loss 3.7840\n"
     ]
    },
    {
     "name": "stderr",
     "output_type": "stream",
     "text": [
      "Training Model:  23%|██▎       | 1400/6000 [12:49<15:43,  4.87steps/s]   "
     ]
    },
    {
     "name": "stdout",
     "output_type": "stream",
     "text": [
      " Step 1400: train loss 3.7643, val loss 3.7778\n"
     ]
    },
    {
     "name": "stderr",
     "output_type": "stream",
     "text": [
      "Training Model:  25%|██▌       | 1500/6000 [13:43<16:26,  4.56steps/s]   "
     ]
    },
    {
     "name": "stdout",
     "output_type": "stream",
     "text": [
      " Step 1500: train loss 3.7236, val loss 3.7215\n"
     ]
    },
    {
     "name": "stderr",
     "output_type": "stream",
     "text": [
      "Training Model:  27%|██▋       | 1600/6000 [14:36<15:42,  4.67steps/s]   "
     ]
    },
    {
     "name": "stdout",
     "output_type": "stream",
     "text": [
      " Step 1600: train loss 3.6715, val loss 3.6914\n"
     ]
    },
    {
     "name": "stderr",
     "output_type": "stream",
     "text": [
      "Training Model:  28%|██▊       | 1700/6000 [15:31<14:57,  4.79steps/s]   "
     ]
    },
    {
     "name": "stdout",
     "output_type": "stream",
     "text": [
      " Step 1700: train loss 3.6682, val loss 3.6674\n"
     ]
    },
    {
     "name": "stderr",
     "output_type": "stream",
     "text": [
      "Training Model:  30%|███       | 1800/6000 [16:25<14:33,  4.81steps/s]   "
     ]
    },
    {
     "name": "stdout",
     "output_type": "stream",
     "text": [
      " Step 1800: train loss 3.6174, val loss 3.6194\n"
     ]
    },
    {
     "name": "stderr",
     "output_type": "stream",
     "text": [
      "Training Model:  32%|███▏      | 1900/6000 [17:18<15:06,  4.52steps/s]   "
     ]
    },
    {
     "name": "stdout",
     "output_type": "stream",
     "text": [
      " Step 1900: train loss 3.5641, val loss 3.5849\n"
     ]
    },
    {
     "name": "stderr",
     "output_type": "stream",
     "text": [
      "Training Model:  33%|███▎      | 2000/6000 [18:11<14:39,  4.55steps/s]   "
     ]
    },
    {
     "name": "stdout",
     "output_type": "stream",
     "text": [
      " Step 2000: train loss 3.5716, val loss 3.5828\n"
     ]
    },
    {
     "name": "stderr",
     "output_type": "stream",
     "text": [
      "Training Model:  35%|███▌      | 2100/6000 [19:05<14:23,  4.52steps/s]   "
     ]
    },
    {
     "name": "stdout",
     "output_type": "stream",
     "text": [
      " Step 2100: train loss 3.5355, val loss 3.5551\n"
     ]
    },
    {
     "name": "stderr",
     "output_type": "stream",
     "text": [
      "Training Model:  37%|███▋      | 2200/6000 [20:02<14:55,  4.24steps/s]   "
     ]
    },
    {
     "name": "stdout",
     "output_type": "stream",
     "text": [
      " Step 2200: train loss 3.5213, val loss 3.5087\n"
     ]
    },
    {
     "name": "stderr",
     "output_type": "stream",
     "text": [
      "Training Model:  38%|███▊      | 2300/6000 [21:01<13:11,  4.67steps/s]   "
     ]
    },
    {
     "name": "stdout",
     "output_type": "stream",
     "text": [
      " Step 2300: train loss 3.5296, val loss 3.5702\n"
     ]
    },
    {
     "name": "stderr",
     "output_type": "stream",
     "text": [
      "Training Model:  40%|████      | 2400/6000 [21:49<12:41,  4.73steps/s]  "
     ]
    },
    {
     "name": "stdout",
     "output_type": "stream",
     "text": [
      " Step 2400: train loss 3.4998, val loss 3.4853\n"
     ]
    },
    {
     "name": "stderr",
     "output_type": "stream",
     "text": [
      "Training Model:  42%|████▏     | 2500/6000 [22:38<13:57,  4.18steps/s]  "
     ]
    },
    {
     "name": "stdout",
     "output_type": "stream",
     "text": [
      " Step 2500: train loss 3.4920, val loss 3.4754\n"
     ]
    },
    {
     "name": "stderr",
     "output_type": "stream",
     "text": [
      "Training Model:  43%|████▎     | 2600/6000 [23:27<12:02,  4.71steps/s]  "
     ]
    },
    {
     "name": "stdout",
     "output_type": "stream",
     "text": [
      " Step 2600: train loss 3.4568, val loss 3.4684\n"
     ]
    },
    {
     "name": "stderr",
     "output_type": "stream",
     "text": [
      "Training Model:  45%|████▌     | 2700/6000 [24:15<11:34,  4.75steps/s]  "
     ]
    },
    {
     "name": "stdout",
     "output_type": "stream",
     "text": [
      " Step 2700: train loss 3.4446, val loss 3.4655\n"
     ]
    },
    {
     "name": "stderr",
     "output_type": "stream",
     "text": [
      "Training Model:  47%|████▋     | 2800/6000 [25:03<11:14,  4.74steps/s]  "
     ]
    },
    {
     "name": "stdout",
     "output_type": "stream",
     "text": [
      " Step 2800: train loss 3.4475, val loss 3.4394\n"
     ]
    },
    {
     "name": "stderr",
     "output_type": "stream",
     "text": [
      "Training Model:  48%|████▊     | 2900/6000 [25:52<11:59,  4.31steps/s]  "
     ]
    },
    {
     "name": "stdout",
     "output_type": "stream",
     "text": [
      " Step 2900: train loss 3.4192, val loss 3.3922\n"
     ]
    },
    {
     "name": "stderr",
     "output_type": "stream",
     "text": [
      "Training Model:  50%|█████     | 3000/6000 [26:54<11:50,  4.22steps/s]  "
     ]
    },
    {
     "name": "stdout",
     "output_type": "stream",
     "text": [
      " Step 3000: train loss 3.4030, val loss 3.4538\n"
     ]
    },
    {
     "name": "stderr",
     "output_type": "stream",
     "text": [
      "Training Model:  52%|█████▏    | 3100/6000 [27:48<11:11,  4.32steps/s]  "
     ]
    },
    {
     "name": "stdout",
     "output_type": "stream",
     "text": [
      " Step 3100: train loss 3.3486, val loss 3.3753\n"
     ]
    },
    {
     "name": "stderr",
     "output_type": "stream",
     "text": [
      "Training Model:  53%|█████▎    | 3200/6000 [28:43<12:21,  3.78steps/s]  "
     ]
    },
    {
     "name": "stdout",
     "output_type": "stream",
     "text": [
      " Step 3200: train loss 3.3169, val loss 3.3603\n"
     ]
    },
    {
     "name": "stderr",
     "output_type": "stream",
     "text": [
      "Training Model:  55%|█████▌    | 3300/6000 [29:38<10:04,  4.46steps/s]  "
     ]
    },
    {
     "name": "stdout",
     "output_type": "stream",
     "text": [
      " Step 3300: train loss 3.3736, val loss 3.3530\n"
     ]
    },
    {
     "name": "stderr",
     "output_type": "stream",
     "text": [
      "Training Model:  57%|█████▋    | 3400/6000 [30:27<09:11,  4.71steps/s]  "
     ]
    },
    {
     "name": "stdout",
     "output_type": "stream",
     "text": [
      " Step 3400: train loss 3.3190, val loss 3.3731\n"
     ]
    },
    {
     "name": "stderr",
     "output_type": "stream",
     "text": [
      "Training Model:  58%|█████▊    | 3500/6000 [31:15<08:58,  4.64steps/s]  "
     ]
    },
    {
     "name": "stdout",
     "output_type": "stream",
     "text": [
      " Step 3500: train loss 3.3391, val loss 3.3767\n"
     ]
    },
    {
     "name": "stderr",
     "output_type": "stream",
     "text": [
      "Training Model:  60%|██████    | 3600/6000 [32:04<08:37,  4.64steps/s]  "
     ]
    },
    {
     "name": "stdout",
     "output_type": "stream",
     "text": [
      " Step 3600: train loss 3.3220, val loss 3.3280\n"
     ]
    },
    {
     "name": "stderr",
     "output_type": "stream",
     "text": [
      "Training Model:  62%|██████▏   | 3700/6000 [32:52<08:04,  4.74steps/s]  "
     ]
    },
    {
     "name": "stdout",
     "output_type": "stream",
     "text": [
      " Step 3700: train loss 3.2968, val loss 3.3169\n"
     ]
    },
    {
     "name": "stderr",
     "output_type": "stream",
     "text": [
      "Training Model:  63%|██████▎   | 3800/6000 [33:39<07:25,  4.94steps/s]  "
     ]
    },
    {
     "name": "stdout",
     "output_type": "stream",
     "text": [
      " Step 3800: train loss 3.3000, val loss 3.2702\n"
     ]
    },
    {
     "name": "stderr",
     "output_type": "stream",
     "text": [
      "Training Model:  65%|██████▌   | 3900/6000 [34:27<07:08,  4.90steps/s]  "
     ]
    },
    {
     "name": "stdout",
     "output_type": "stream",
     "text": [
      " Step 3900: train loss 3.3038, val loss 3.3028\n"
     ]
    },
    {
     "name": "stderr",
     "output_type": "stream",
     "text": [
      "Training Model:  67%|██████▋   | 4000/6000 [35:15<07:08,  4.67steps/s]  "
     ]
    },
    {
     "name": "stdout",
     "output_type": "stream",
     "text": [
      " Step 4000: train loss 3.2731, val loss 3.3019\n"
     ]
    },
    {
     "name": "stderr",
     "output_type": "stream",
     "text": [
      "Training Model:  68%|██████▊   | 4100/6000 [36:04<06:54,  4.59steps/s]  "
     ]
    },
    {
     "name": "stdout",
     "output_type": "stream",
     "text": [
      " Step 4100: train loss 3.2961, val loss 3.3082\n"
     ]
    },
    {
     "name": "stderr",
     "output_type": "stream",
     "text": [
      "Training Model:  70%|███████   | 4200/6000 [36:51<06:15,  4.80steps/s]  "
     ]
    },
    {
     "name": "stdout",
     "output_type": "stream",
     "text": [
      " Step 4200: train loss 3.2294, val loss 3.2462\n"
     ]
    },
    {
     "name": "stderr",
     "output_type": "stream",
     "text": [
      "Training Model:  72%|███████▏  | 4300/6000 [37:41<06:19,  4.48steps/s]  "
     ]
    },
    {
     "name": "stdout",
     "output_type": "stream",
     "text": [
      " Step 4300: train loss 3.2556, val loss 3.2975\n"
     ]
    },
    {
     "name": "stderr",
     "output_type": "stream",
     "text": [
      "Training Model:  73%|███████▎  | 4400/6000 [38:30<06:30,  4.10steps/s]  "
     ]
    },
    {
     "name": "stdout",
     "output_type": "stream",
     "text": [
      " Step 4400: train loss 3.2624, val loss 3.2517\n"
     ]
    },
    {
     "name": "stderr",
     "output_type": "stream",
     "text": [
      "Training Model:  75%|███████▌  | 4500/6000 [39:20<05:27,  4.58steps/s]  "
     ]
    },
    {
     "name": "stdout",
     "output_type": "stream",
     "text": [
      " Step 4500: train loss 3.2515, val loss 3.2246\n"
     ]
    },
    {
     "name": "stderr",
     "output_type": "stream",
     "text": [
      "Training Model:  77%|███████▋  | 4600/6000 [40:10<05:30,  4.24steps/s]  "
     ]
    },
    {
     "name": "stdout",
     "output_type": "stream",
     "text": [
      " Step 4600: train loss 3.2300, val loss 3.2527\n"
     ]
    },
    {
     "name": "stderr",
     "output_type": "stream",
     "text": [
      "Training Model:  78%|███████▊  | 4700/6000 [41:00<04:44,  4.57steps/s]  "
     ]
    },
    {
     "name": "stdout",
     "output_type": "stream",
     "text": [
      " Step 4700: train loss 3.2072, val loss 3.2352\n"
     ]
    },
    {
     "name": "stderr",
     "output_type": "stream",
     "text": [
      "Training Model:  80%|████████  | 4800/6000 [41:51<04:35,  4.35steps/s]  "
     ]
    },
    {
     "name": "stdout",
     "output_type": "stream",
     "text": [
      " Step 4800: train loss 3.2042, val loss 3.1969\n"
     ]
    },
    {
     "name": "stderr",
     "output_type": "stream",
     "text": [
      "Training Model:  82%|████████▏ | 4900/6000 [42:41<03:52,  4.72steps/s]  "
     ]
    },
    {
     "name": "stdout",
     "output_type": "stream",
     "text": [
      " Step 4900: train loss 3.1774, val loss 3.2103\n"
     ]
    },
    {
     "name": "stderr",
     "output_type": "stream",
     "text": [
      "Training Model:  83%|████████▎ | 5000/6000 [43:30<03:37,  4.59steps/s]  "
     ]
    },
    {
     "name": "stdout",
     "output_type": "stream",
     "text": [
      " Step 5000: train loss 3.1881, val loss 3.2082\n"
     ]
    },
    {
     "name": "stderr",
     "output_type": "stream",
     "text": [
      "Training Model:  85%|████████▌ | 5100/6000 [44:29<03:31,  4.25steps/s]  "
     ]
    },
    {
     "name": "stdout",
     "output_type": "stream",
     "text": [
      " Step 5100: train loss 3.2098, val loss 3.2132\n"
     ]
    },
    {
     "name": "stderr",
     "output_type": "stream",
     "text": [
      "Training Model:  87%|████████▋ | 5200/6000 [45:25<02:55,  4.55steps/s]  "
     ]
    },
    {
     "name": "stdout",
     "output_type": "stream",
     "text": [
      " Step 5200: train loss 3.1894, val loss 3.2479\n"
     ]
    },
    {
     "name": "stderr",
     "output_type": "stream",
     "text": [
      "Training Model:  88%|████████▊ | 5300/6000 [46:26<02:35,  4.49steps/s]  "
     ]
    },
    {
     "name": "stdout",
     "output_type": "stream",
     "text": [
      " Step 5300: train loss 3.1290, val loss 3.1703\n"
     ]
    },
    {
     "name": "stderr",
     "output_type": "stream",
     "text": [
      "Training Model:  90%|█████████ | 5400/6000 [47:29<02:32,  3.93steps/s]  "
     ]
    },
    {
     "name": "stdout",
     "output_type": "stream",
     "text": [
      " Step 5400: train loss 3.1667, val loss 3.1817\n"
     ]
    },
    {
     "name": "stderr",
     "output_type": "stream",
     "text": [
      "Training Model:  92%|█████████▏| 5500/6000 [48:31<01:54,  4.38steps/s]  "
     ]
    },
    {
     "name": "stdout",
     "output_type": "stream",
     "text": [
      " Step 5500: train loss 3.1482, val loss 3.1815\n"
     ]
    },
    {
     "name": "stderr",
     "output_type": "stream",
     "text": [
      "Training Model:  93%|█████████▎| 5600/6000 [49:34<01:23,  4.78steps/s]  "
     ]
    },
    {
     "name": "stdout",
     "output_type": "stream",
     "text": [
      " Step 5600: train loss 3.1480, val loss 3.1643\n"
     ]
    },
    {
     "name": "stderr",
     "output_type": "stream",
     "text": [
      "Training Model:  95%|█████████▌| 5700/6000 [50:34<01:10,  4.24steps/s]  "
     ]
    },
    {
     "name": "stdout",
     "output_type": "stream",
     "text": [
      " Step 5700: train loss 3.1270, val loss 3.1501\n"
     ]
    },
    {
     "name": "stderr",
     "output_type": "stream",
     "text": [
      "Training Model:  97%|█████████▋| 5800/6000 [51:38<01:20,  2.48steps/s]"
     ]
    },
    {
     "name": "stdout",
     "output_type": "stream",
     "text": [
      " Step 5800: train loss 3.1444, val loss 3.1744\n"
     ]
    },
    {
     "name": "stderr",
     "output_type": "stream",
     "text": [
      "Training Model:  98%|█████████▊| 5900/6000 [52:38<00:21,  4.71steps/s]"
     ]
    },
    {
     "name": "stdout",
     "output_type": "stream",
     "text": [
      " Step 5900: train loss 3.1365, val loss 3.1423\n"
     ]
    },
    {
     "name": "stderr",
     "output_type": "stream",
     "text": [
      "Training Model: 100%|██████████| 6000/6000 [53:45<00:00,  1.86steps/s]\n"
     ]
    }
   ],
   "source": [
    "print(\" Starting training\")\n",
    "model = TimelineLanguageModel().to(device)\n",
    "optimizer = torch.optim.AdamW(model.parameters(), lr=learning_rate)\n",
    "print(f\" Model has {sum(p.numel() for p in model.parameters())/1e6:.2f}M parameters\")\n",
    "\n",
    "for iter in tqdm(range(max_iters), desc=\"Training Model\", unit=\"steps\"):\n",
    "    if iter % eval_interval == 0:\n",
    "        losses = estimate_loss()\n",
    "        print(f\" Step {iter}: train loss {losses['train']:.4f}, val loss {losses['val']:.4f}\")\n",
    "\n",
    "    xb, yb = get_batch(\"train\")\n",
    "    logits, loss = model(xb, yb)\n",
    "\n",
    "    loss.backward()\n",
    "    optimizer.step()\n",
    "    optimizer.zero_grad(set_to_none=True)\n",
    "\n",
    "\n"
   ]
  },
  {
   "cell_type": "markdown",
   "metadata": {},
   "source": []
  },
  {
   "cell_type": "code",
   "execution_count": 10,
   "metadata": {},
   "outputs": [
    {
     "name": "stdout",
     "output_type": "stream",
     "text": [
      " Model saved.\n",
      " Generating synthetic timeline...\n",
      " Decoded Tokens:\n",
      "('Hospital Admission', 'admittime')_admission_location=AMBULATORY SURGERY TRANSFER_discharge_location=\n",
      "Diagnosis_icd_code=Z20\n",
      "Transfer to Location_careunit=Psychiatry\n",
      "Transfer to Location_careunit=Psychiatry\n",
      "Transfer to Location_careunit=Psychiatry\n",
      "Transfer to Location_careunit=UNKNOWN\n",
      "('Hospital Admission', 'admittime')_admission_location=PHYSICIAN REFERRAL_discharge_location=HOME\n",
      "__EOS__\n",
      "__EOS__\n",
      "__EOS__\n",
      "Transfer to Location_careunit=UNKNOWN\n",
      "('Hospital Admission', 'admittime')_admission_location=PHYSICIAN REFERRAL_discharge_location=HOME\n",
      "__EOS__\n",
      "__EOS__\n",
      "Transfer to Location_careunit=UNKNOWN\n",
      "('Hospital Admission', 'admittime')_admission_location=EMERGENCY ROOM_discharge_location=HOME\n",
      "__EOS__\n",
      "__EOS__\n",
      "Transfer to Location_careunit=UNKNOWN\n",
      "('Hospital Admission', 'admittime')_admission_location=EMERGENCY ROOM_discharge_location=HOME\n",
      "__EOS__\n",
      "__EOS__\n",
      "Transfer to Location_careunit=UNKNOWN\n",
      "('Hospital Admission', 'admittime')_admission_location=EMERGENCY ROOM_discharge_location=HOME\n",
      "__EOS__\n",
      "Diagnosis_icd_code=473\n",
      "__EOS__\n",
      "Transfer to Location_careunit=UNKNOWN\n",
      "('Hospital Admission', 'admittime')_admission_location=EMERGENCY ROOM_discharge_location=HOME\n",
      "__EOS__\n",
      "__EOS__\n",
      "Transfer to Location_careunit=UNKNOWN\n",
      "('Hospital Admission', 'admittime')_admission_location=EMERGENCY ROOM_discharge_location=HOME\n",
      "__EOS__\n",
      "Transfer to Location_careunit=UNKNOWN\n",
      "('Hospital Admission', 'admittime')_admission_location=EMERGENCY ROOM_discharge_location=HOME\n",
      "__EOS__\n",
      "__EOS__\n",
      "Transfer to Location_careunit=UNKNOWN\n",
      "('Hospital Admission', 'admittime')_admission_location=EMERGENCY ROOM_discharge_location=HOME\n",
      "__EOS__\n",
      "Transfer to Location_careunit=UNKNOWN\n",
      "('Hospital Admission', 'admittime')_admission_location=EMERGENCY ROOM_discharge_location=HOME\n",
      "__EOS__\n",
      "__EOS__\n",
      "Transfer to Location_careunit=UNKNOWN\n",
      "('Hospital Admission', 'admittime')_admission_location=EMERGENCY ROOM_discharge_location=HOME\n",
      "__EOS__\n",
      "__EOS__\n",
      "Transfer to Location_careunit=UNKNOWN\n",
      "('Hospital Admission', 'admittime')_admission_location=EMERGENCY ROOM_discharge_location=HOME\n",
      "__EOS__\n",
      "__EOS__\n",
      "Transfer to Location_careunit=UNKNOWN\n",
      "('Hospital Admission', 'admittime')_admission_location=EMERGENCY ROOM_discharge_location=HOME\n",
      "__EOS__\n",
      "__EOS__\n",
      "Transfer to Location_careunit=UNKNOWN\n",
      "('Hospital Admission', 'admittime')_admission_location=EMERGENCY ROOM_discharge_location=HOME\n",
      "__EOS__\n",
      "Transfer to Location_careunit=UNKNOWN\n",
      "__EOS__\n",
      "__EOS__\n",
      "Transfer to Location_careunit=UNKNOWN\n",
      "('Hospital Admission', 'admittime')_admission_location=EMERGENCY ROOM_discharge_location=HOME\n",
      "__EOS__\n",
      "__EOS__\n",
      "Transfer to Location_careunit=UNKNOWN\n",
      "('Hospital Admission', 'admittime')_admission_location=EMERGENCY ROOM_discharge_location=HOME\n",
      "__EOS__\n",
      "__EOS__\n",
      "__EOS__\n",
      "Transfer to Location_careunit=UNKNOWN\n",
      "('Hospital Admission', 'admittime')_admission_location=EMERGENCY ROOM_discharge_location=HOME\n",
      "__EOS__\n",
      "__EOS__\n",
      "Transfer to Location_careunit=UNKNOWN\n",
      "('Hospital Admission', 'admittime')_admission_location=EMERGENCY ROOM_discharge_location=HOME\n",
      "__EOS__\n",
      "__EOS__\n",
      "Transfer to Location_careunit=UNKNOWN\n",
      "('Hospital Admission', 'admittime')_admission_location=EMERGENCY ROOM_discharge_location=HOME\n",
      "__EOS__\n",
      "__EOS__\n",
      "Transfer to Location_careunit=UNKNOWN\n",
      "('Hospital Admission', 'admittime')_admission_location=EMERGENCY ROOM_discharge_location=HOME\n",
      "__EOS__\n",
      "('Hospital Admission', 'admittime')_admission_location=EMERGENCY ROOM_discharge_location=HOME\n",
      "__EOS__\n",
      "Transfer to Location_careunit=UNKNOWN\n",
      "('Hospital Admission', 'admittime')_admission_location=EMERGENCY ROOM_discharge_location=HOME\n",
      "__EOS__\n",
      "__EOS__\n",
      "Transfer to Location_careunit=UNKNOWN\n",
      "('Hospital Admission', 'admittime')_admission_location=EMERGENCY ROOM_discharge_location=HOME\n",
      "__EOS__\n",
      "__EOS__\n",
      "Transfer to Location_careunit=UNKNOWN\n",
      "('Hospital Admission', 'admittime')_admission_location=EMERGENCY ROOM_discharge_location=HOME\n",
      "__EOS__\n",
      "__EOS__\n",
      "Transfer to Location_careunit=UNKNOWN\n",
      "('Hospital Admission', 'admittime')_admission_location=EMERGENCY ROOM_discharge_location=HOME\n",
      "__EOS__\n",
      "__EOS__\n",
      "Transfer to Location_careunit=UNKNOWN\n",
      "('Hospital Admission', 'admittime')_admission_location=EMERGENCY ROOM_discharge_location=HOME\n",
      "__EOS__\n",
      "__EOS__\n",
      "Transfer to Location_careunit=UNKNOWN\n",
      "('Hospital Admission', 'admittime')_admission_location=EMERGENCY ROOM_discharge_location=HOME\n",
      "__EOS__\n",
      "Transfer to Location_careunit=UNKNOWN\n",
      "('Hospital Admission', 'admittime')_admission_location=EMERGENCY ROOM_discharge_location=HOME\n",
      "__EOS__\n",
      "__EOS__\n",
      "Transfer to Location_careunit=UNKNOWN\n",
      "('Hospital Admission', 'admittime')_admission_location=EMERGENCY ROOM_discharge_location=HOME\n",
      "__EOS__\n",
      "('ICU Admission', 'intime')_first_careunit=Medical/Surgical Intensive Care Unit (MICU/SICU)_last_careunit=Medical/Surgical Intensive Care Unit (MICU/SICU)\n",
      "__EOS__\n",
      "Transfer to Location_careunit=UNKNOWN\n",
      "('Hospital Admission', 'admittime')_admission_location=EMERGENCY ROOM_discharge_location=HOME\n",
      "__EOS__\n",
      "__EOS__\n",
      "Transfer to Location_careunit=UNKNOWN\n",
      "('Hospital Admission', 'admittime')_admission_location=EMERGENCY ROOM_discharge_location=HOME\n",
      "__EOS__\n",
      "__EOS__\n",
      "Transfer to Location_careunit=UNKNOWN\n",
      "('Hospital Admission', 'admittime')_admission_location=EMERGENCY ROOM_discharge_location=HOME\n",
      "__EOS__\n",
      "__EOS__\n",
      "Transfer to Location_careunit=UNKNOWN\n",
      "('Hospital Admission', 'admittime')_admission_location=EMERGENCY ROOM_discharge_location=HOME\n",
      "__EOS__\n",
      "__EOS__\n",
      "Transfer to Location_careunit=UNKNOWN\n",
      "('Hospital Admission', 'admittime')_admission_location=EMERGENCY ROOM_discharge_location=HOME\n",
      "__EOS__\n",
      "__EOS__\n",
      "Transfer to Location_careunit=UNKNOWN\n",
      "('Hospital Admission', 'admittime')_admission_location=EMERGENCY ROOM_discharge_location=HOME\n",
      "__EOS__\n",
      "__EOS__\n",
      "Transfer to Location_careunit=UNKNOWN\n",
      "('Hospital Admission', 'admittime')_admission_location=EMERGENCY ROOM_discharge_location=HOME\n",
      "__EOS__\n",
      "Diagnosis_icd_code=272\n",
      "__EOS__\n",
      "Transfer to Location_careunit=UNKNOWN\n",
      "('Hospital Admission', 'admittime')_admission_location=EMERGENCY ROOM_discharge_location=HOME\n",
      "__EOS__\n",
      "__EOS__\n",
      "Transfer to Location_careunit=UNKNOWN\n",
      "('Hospital Admission', 'admittime')_admission_location=EMERGENCY ROOM_discharge_location=\n",
      "__EOS__\n",
      "__EOS__\n",
      "Transfer to Location_careunit=UNKNOWN\n",
      "('Hospital Admission', 'admittime')_admission_location=EMERGENCY ROOM_discharge_location=HOME\n",
      "__EOS__\n",
      "__EOS__\n",
      "__EOS__\n",
      "Transfer to Location_careunit=UNKNOWN\n",
      "('Hospital Admission', 'admittime')_admission_location=EMERGENCY ROOM_discharge_location=HOME\n",
      "__EOS__\n",
      "Transfer to Location_careunit=UNKNOWN\n",
      "('Hospital Admission', 'admittime')_admission_location=EMERGENCY ROOM_discharge_location=HOME\n",
      "__EOS__\n",
      "__EOS__\n",
      "Transfer to Location_careunit=UNKNOWN\n",
      "('Hospital Admission', 'admittime')_admission_location=EMERGENCY ROOM_discharge_location=HOME\n",
      "__EOS__\n",
      "Transfer to Location_careunit=UNKNOWN\n",
      "('Hospital Admission', 'admittime')_admission_location=EMERGENCY ROOM_discharge_location=HOME\n",
      "__EOS__\n",
      "__EOS__\n",
      "Transfer to Location_careunit=UNKNOWN\n",
      "('Hospital Admission', 'admittime')_admission_location=EMERGENCY ROOM_discharge_location=HOME\n",
      "__EOS__\n",
      "__EOS__\n",
      "Transfer to Location_careunit=UNKNOWN\n",
      "('Hospital Admission', 'admittime')_admission_location=EMERGENCY ROOM_discharge_location=\n",
      "__EOS__\n",
      "Transfer to Location_careunit=UNKNOWN\n",
      "('Hospital Admission', 'admittime')_admission_location=EMERGENCY ROOM_discharge_location=HOME\n",
      "__EOS__\n",
      "__EOS__\n",
      "Transfer to Location_careunit=UNKNOWN\n",
      "('Hospital Admission', 'admittime')_admission_location=EMERGENCY ROOM_discharge_location=HOME\n",
      "__EOS__\n",
      "Transfer to Location_careunit=UNKNOWN\n",
      "('Hospital Admission', 'admittime')_admission_location=EMERGENCY ROOM_discharge_location=HOME\n",
      "__EOS__\n",
      "__EOS__\n",
      "__EOS__\n",
      "Transfer to Location_careunit=UNKNOWN\n",
      "('Hospital Admission', 'admittime')_admission_location=EMERGENCY ROOM_discharge_location=HOME\n",
      "__EOS__\n",
      "Transfer to Location_careunit=UNKNOWN\n",
      "__EOS__\n",
      "__EOS__\n",
      "Transfer to Location_careunit=UNKNOWN\n",
      "('Hospital Admission', 'admittime')_admission_location=EMERGENCY ROOM_discharge_location=HOME\n",
      "__EOS__\n",
      "__EOS__\n",
      "Transfer to Location_careunit=UNKNOWN\n",
      "('Hospital Admission', 'admittime')_admission_location=EMERGENCY ROOM_discharge_location=HOME\n",
      "__EOS__\n",
      "__EOS__\n",
      "Transfer to Location_careunit=UNKNOWN\n",
      "('Hospital Admission', 'admittime')_admission_location=EMERGENCY ROOM_discharge_location=HOME\n",
      "__EOS__\n",
      "__EOS__\n",
      "Transfer to Location_careunit=UNKNOWN\n",
      "('Hospital Admission', 'admittime')_admission_location=EMERGENCY ROOM_discharge_location=HOME\n",
      "__EOS__\n",
      "Transfer to Location_careunit=UNKNOWN\n",
      "('Hospital Admission', 'admittime')_admission_location=EMERGENCY ROOM_discharge_location=HOME\n",
      "__EOS__\n",
      "__EOS__\n",
      "Transfer to Location_careunit=UNKNOWN\n",
      "('Hospital Admission', 'admittime')_admission_location=EMERGENCY ROOM_discharge_location=HOME\n",
      "__EOS__\n",
      "__EOS__\n",
      "Transfer to Location_careunit=UNKNOWN\n",
      "('Hospital Admission', 'admittime')_admission_location=EMERGENCY ROOM_discharge_location=HOME\n",
      "__EOS__\n",
      "__EOS__\n",
      "Transfer to Location_careunit=UNKNOWN\n",
      "('Hospital Admission', 'admittime')_admission_location=EMERGENCY ROOM_discharge_location=HOME\n",
      "__EOS__\n",
      "Transfer to Location_careunit=UNKNOWN\n",
      "('Hospital Admission', 'admittime')_admission_location=EMERGENCY ROOM_discharge_location=HOME\n",
      "__EOS__\n",
      "__EOS__\n",
      "Transfer to Location_careunit=UNKNOWN\n",
      "('Hospital Admission', 'admittime')_admission_location=EMERGENCY ROOM_discharge_location=HOME\n",
      "__EOS__\n",
      "__EOS__\n",
      "Transfer to Location_careunit=UNKNOWN\n",
      "('Hospital Admission', 'admittime')_admission_location=EMERGENCY ROOM_discharge_location=HOME\n",
      "__EOS__\n",
      "Transfer to Location_careunit=UNKNOWN\n",
      "('Hospital Admission', 'admittime')_admission_location=EMERGENCY ROOM_discharge_location=HOME\n",
      "__EOS__\n",
      "Transfer to Location_careunit=UNKNOWN\n",
      "('Hospital Admission', 'admittime')_admission_location=EMERGENCY ROOM_discharge_location=HOME\n",
      "__EOS__\n",
      "__EOS__\n",
      "Transfer to Location_careunit=UNKNOWN\n",
      "('Hospital Admission', 'admittime')_admission_location=EMERGENCY ROOM_discharge_location=HOME\n",
      "__EOS__\n",
      "__EOS__\n",
      "Transfer to Location_careunit=UNKNOWN\n",
      "('Hospital Admission', 'admittime')_admission_location=EMERGENCY ROOM_discharge_location=HOME\n",
      "__EOS__\n",
      "__EOS__\n",
      "Transfer to Location_careunit=UNKNOWN\n",
      "('Hospital Admission', 'admittime')_admission_location=EMERGENCY ROOM_discharge_location=HOME\n",
      "__EOS__\n",
      "__EOS__\n",
      "Transfer to Location_careunit=UNKNOWN\n",
      "('Hospital Admission', 'admittime')_admission_location=EMERGENCY ROOM_discharge_location=HOME\n",
      "__EOS__\n",
      "Transfer to Location_careunit=UNKNOWN\n",
      "('Hospital Admission', 'admittime')_admission_location=EMERGENCY ROOM_discharge_location=HOME\n",
      "__EOS__\n",
      "__EOS__\n",
      "Transfer to Location_careunit=UNKNOWN\n",
      "('Hospital Admission', 'admittime')_admission_location=EMERGENCY ROOM_discharge_location=HOME\n",
      "__EOS__\n",
      "__EOS__\n",
      "Transfer to Location_careunit=UNKNOWN\n",
      "('Hospital Admission', 'admittime')_admission_location=EMERGENCY ROOM_discharge_location=HOME\n",
      "__EOS__\n",
      "__EOS__\n",
      "Transfer to Location_careunit=UNKNOWN\n",
      "('Hospital Admission', 'admittime')_admission_location=EMERGENCY ROOM_discharge_location=HOME\n",
      "__EOS__\n",
      "__EOS__\n",
      "Transfer to Location_careunit=UNKNOWN\n",
      "('Hospital Admission', 'admittime')_admission_location=EMERGENCY ROOM_discharge_location=HOME\n",
      "__EOS__\n",
      "__EOS__\n",
      "Transfer to Location_careunit=UNKNOWN\n",
      "('Hospital Admission', 'admittime')_admission_location=EMERGENCY ROOM_discharge_location=HOME\n",
      "__EOS__\n",
      "__EOS__\n",
      "Transfer to Location_careunit=UNKNOWN\n",
      "('Hospital Admission', 'admittime')_admission_location=EMERGENCY ROOM_discharge_location=\n",
      "__EOS__\n",
      "Transfer to Location_careunit=UNKNOWN\n",
      "Diagnosis_icd_code=530\n",
      "__EOS__\n",
      "__EOS__\n",
      "Transfer to Location_careunit=UNKNOWN\n",
      "('Hospital Admission', 'admittime')_admission_location=EMERGENCY ROOM_discharge_location=HOME\n",
      "__EOS__\n",
      "__EOS__\n",
      "Transfer to Location_careunit=UNKNOWN\n"
     ]
    }
   ],
   "source": [
    "with open(\"D:/CourseworkFolder/DPSynthData/Data Manipulation/token_map.json\", \"r\", encoding=\"utf-8\") as f:\n",
    "    token_map = json.load(f)\n",
    "itos = {v: k for k, v in token_map.items()}\n",
    "\n",
    "def decode(token_ids):\n",
    "    return [itos.get(i, f\"<unk:{i}>\") for i in token_ids]\n",
    "\n",
    "\n",
    "torch.save(model.state_dict(), \"timeline_model.pt\")\n",
    "print(\" Model saved.\")\n",
    "\n",
    "print(\" Generating synthetic timeline...\")\n",
    "context = torch.zeros((1, 1), dtype=torch.long, device=device)\n",
    "output = model.generate(context, max_new_tokens=300)\n",
    "decoded = decode(output[0].tolist())\n",
    "\n",
    "print(\" Decoded Tokens:\")\n",
    "for token in decoded:\n",
    "    print(token)"
   ]
  }
 ],
 "metadata": {
  "kernelspec": {
   "display_name": ".venv",
   "language": "python",
   "name": "python3"
  },
  "language_info": {
   "codemirror_mode": {
    "name": "ipython",
    "version": 3
   },
   "file_extension": ".py",
   "mimetype": "text/x-python",
   "name": "python",
   "nbconvert_exporter": "python",
   "pygments_lexer": "ipython3",
   "version": "3.11.9"
  }
 },
 "nbformat": 4,
 "nbformat_minor": 2
}
