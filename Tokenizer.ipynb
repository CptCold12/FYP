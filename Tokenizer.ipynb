{
 "cells": [
  {
   "cell_type": "code",
   "execution_count": 1,
   "metadata": {},
   "outputs": [],
   "source": [
    "import ast\n",
    "import json\n",
    "import os\n",
    "import tempfile\n",
    "import shutil\n",
    "import csv\n",
    "from tqdm import tqdm"
   ]
  },
  {
   "cell_type": "markdown",
   "metadata": {},
   "source": [
    "Tokenizer"
   ]
  },
  {
   "cell_type": "code",
   "execution_count": 2,
   "metadata": {},
   "outputs": [
    {
     "name": "stdout",
     "output_type": "stream",
     "text": [
      "Loading all events (streaming)...\n"
     ]
    },
    {
     "name": "stderr",
     "output_type": "stream",
     "text": [
      "Loading All Timeline Files: 100%|██████████| 107101/107101 [14:31<00:00, 122.83file/s]\n"
     ]
    },
    {
     "name": "stdout",
     "output_type": "stream",
     "text": [
      "Tokenizing 12079048 events...\n",
      "Building token map from 15566 unique tokens...\n",
      "Token map saved to: D:\\CourseworkFolder\\DPSynthData\\Data Manipulation\\token_map.json\n"
     ]
    }
   ],
   "source": [
    "\n",
    "\n",
    "REMOVED_FIELDS = {\n",
    "    \"intime\", \"outtime\", \"admittime\", \"dischtime\",\n",
    "    \"starttime\", \"charttime\", \"chartdate\", \"ordertime\", \"valuenum\", \"long_title\"\n",
    "}\n",
    "\n",
    "def create_token(event_type, details_dict):\n",
    "    # Process ICD code if present\n",
    "    if 'icd_code' in details_dict:\n",
    "        code = details_dict['icd_code']\n",
    "        if isinstance(code, str) and len(code) >= 3:\n",
    "            details_dict['icd_code'] = code[:3]\n",
    "    \n",
    "    # Concatenate event_type and details into a single string\n",
    "    details_token = \"_\".join([f\"{k}={v}\" for k, v in details_dict.items()])\n",
    "    token = f\"{event_type}_{details_token}\"\n",
    "    return token\n",
    "\n",
    "def safe_json_save(obj, path):\n",
    "    \"\"\"Safely save JSON data to file, using a temporary file to avoid partial writes.\"\"\"\n",
    "    tmp_fd, tmp_path = tempfile.mkstemp()\n",
    "    with os.fdopen(tmp_fd, 'w') as tmp_file:\n",
    "        json.dump(obj, tmp_file, indent=4)\n",
    "    shutil.move(tmp_path, path)\n",
    "\n",
    "def load_all_events(folder_path):\n",
    "    \"\"\"Load all events from CSV files in the given folder.\"\"\"\n",
    "    all_events = []\n",
    "    all_files = [f for f in os.listdir(folder_path) if f.endswith('.csv')]\n",
    "    file_paths = [os.path.join(folder_path, f) for f in all_files]\n",
    "\n",
    "    for file_path in tqdm(file_paths, desc=\"Loading All Timeline Files\", unit=\"file\"):\n",
    "        try:\n",
    "            with open(file_path, 'r', encoding='utf-8') as f:\n",
    "                reader = csv.DictReader(f)\n",
    "                for row in reader:\n",
    "                    event_type = row.get(\"event_type\", None)\n",
    "                    details_str = row.get(\"details\", None)\n",
    "\n",
    "                    if not event_type or not details_str:\n",
    "                        continue\n",
    "\n",
    "                    try:\n",
    "                        details_dict = ast.literal_eval(details_str)\n",
    "                    except (ValueError, SyntaxError) as e:\n",
    "                        print(f\"Skipping malformed details in {file_path}: {e}\")\n",
    "                        continue  # Skip malformed details\n",
    "\n",
    "                    # Strip known timestamp fields\n",
    "                    for key in REMOVED_FIELDS:\n",
    "                        details_dict.pop(key, None)\n",
    "\n",
    "                    all_events.append((event_type, details_dict))\n",
    "        except Exception as e:\n",
    "            print(f\"Failed to process {file_path}: {e}\")\n",
    "            continue\n",
    "\n",
    "    return all_events\n",
    "\n",
    "def generate_tokens(event_list):\n",
    "    \"\"\"Generate a set of unique tokens from event type and details.\"\"\"\n",
    "    token_set = set()\n",
    "    for event_type, details_dict in event_list:\n",
    "        token = create_token(event_type, details_dict)\n",
    "        token_set.add(token)\n",
    "    return token_set\n",
    "\n",
    "def build_token_map(token_set):\n",
    "    \"\"\"Build a token map from the set of unique tokens.\"\"\"\n",
    "    token_map = {}\n",
    "    for token in sorted(token_set):  # sorted for reproducibility\n",
    "        token_map[token] = len(token_map)\n",
    "    return token_map\n",
    "\n",
    "def generate_token_map_from_folder(folder_path, token_map_filepath):\n",
    "    \"\"\"Generate a token map from events in a folder and save it to a file.\"\"\"\n",
    "    print(\"Loading all events (streaming)...\")\n",
    "    all_events = load_all_events(folder_path)\n",
    "\n",
    "    print(f\"Tokenizing {len(all_events)} events...\")\n",
    "    token_set = generate_tokens(all_events)\n",
    "\n",
    "    print(f\"Building token map from {len(token_set)} unique tokens...\")\n",
    "    token_map = build_token_map(token_set)\n",
    "\n",
    "    safe_json_save(token_map, token_map_filepath)\n",
    "    print(f\"Token map saved to: {token_map_filepath}\")\n",
    "    return token_map\n",
    "\n",
    "# === Usage ===\n",
    "folder_path = r'D:\\CourseworkFolder\\DPSynthData\\Data Manipulation\\timelines'\n",
    "token_map_filepath = r'D:\\CourseworkFolder\\DPSynthData\\Data Manipulation\\token_map.json'\n",
    "\n",
    "token_map = generate_token_map_from_folder(folder_path, token_map_filepath)\n"
   ]
  }
 ],
 "metadata": {
  "kernelspec": {
   "display_name": ".venv",
   "language": "python",
   "name": "python3"
  },
  "language_info": {
   "codemirror_mode": {
    "name": "ipython",
    "version": 3
   },
   "file_extension": ".py",
   "mimetype": "text/x-python",
   "name": "python",
   "nbconvert_exporter": "python",
   "pygments_lexer": "ipython3",
   "version": "3.11.9"
  }
 },
 "nbformat": 4,
 "nbformat_minor": 2
}
